{
 "cells": [
  {
   "cell_type": "code",
   "execution_count": 2,
   "id": "a546574a",
   "metadata": {},
   "outputs": [],
   "source": [
    "import pyttsx3\n",
    "bot = pyttsx3.init()\n",
    "bot.say(\"Hello World\")\n",
    "bot.runAndWait()"
   ]
  }
 ],
 "metadata": {
  "kernelspec": {
   "display_name": "Python 3 (ipykernel)",
   "language": "python",
   "name": "python3"
  },
  "language_info": {
   "codemirror_mode": {
    "name": "ipython",
    "version": 3
   },
   "file_extension": ".py",
   "mimetype": "text/x-python",
   "name": "python",
   "nbconvert_exporter": "python",
   "pygments_lexer": "ipython3",
   "version": "3.9.7"
  }
 },
 "nbformat": 4,
 "nbformat_minor": 5
}
